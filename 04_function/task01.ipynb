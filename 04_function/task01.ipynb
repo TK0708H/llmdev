{
 "cells": [
  {
   "cell_type": "code",
   "execution_count": 4,
   "id": "d2f2acc1",
   "metadata": {},
   "outputs": [
    {
     "name": "stdout",
     "output_type": "stream",
     "text": [
      "ユーザー名は有効です\n"
     ]
    }
   ],
   "source": [
    "def validation(username):\n",
    "    # 1. 文字数のチェック（5〜15文字）\n",
    "    if not (5 <= len(username) <= 15):\n",
    "        print(\"エラー: ユーザー名は5文字以上15文字以内で入力してください\")\n",
    "        return False\n",
    "\n",
    "    # 2. 空白（スペース）を含まないかチェック\n",
    "    if ' ' in username:\n",
    "        print(\"エラー: ユーザー名に空白を含めることはできません\")\n",
    "        return False\n",
    "\n",
    "    # 3. 英数字のみかチェック\n",
    "    if not username.isalnum():\n",
    "        print(\"エラー: ユーザー名は英数字のみ使用できます\")\n",
    "        return False\n",
    "\n",
    "    # 4. すべての条件を満たしている\n",
    "    return True\n",
    "\n",
    "\n",
    "#文字列を受け取る\n",
    "user_input = input(\"ユーザー名を入力してください: \")\n",
    "\n",
    "\n",
    "#バリテーション\n",
    "if validation(user_input):\n",
    "    print(\"ユーザー名は有効です\")\n",
    "else:\n",
    "    print(\"不正なユーザー名です\")\n"
   ]
  }
 ],
 "metadata": {
  "kernelspec": {
   "display_name": ".venv",
   "language": "python",
   "name": "python3"
  },
  "language_info": {
   "codemirror_mode": {
    "name": "ipython",
    "version": 3
   },
   "file_extension": ".py",
   "mimetype": "text/x-python",
   "name": "python",
   "nbconvert_exporter": "python",
   "pygments_lexer": "ipython3",
   "version": "3.12.7"
  }
 },
 "nbformat": 4,
 "nbformat_minor": 5
}
