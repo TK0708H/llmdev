{
 "cells": [
  {
   "cell_type": "code",
   "execution_count": 3,
   "id": "1d61e280",
   "metadata": {},
   "outputs": [
    {
     "name": "stdout",
     "output_type": "stream",
     "text": [
      "はじめまして 小林貴史 と申します\n",
      "年齢は 43 です。来年は 44 になります。\n",
      "よろしくお願いします。\n"
     ]
    }
   ],
   "source": [
    "# 名前と年齢を変数として定義\n",
    "name=\"小林貴史\"\n",
    "age=43\n",
    "\n",
    "# 来年の年齢を計算\n",
    "nextage=age+1\n",
    "\n",
    "# 結果を表示\n",
    "print(\"はじめまして\",name, \"と申します\")\n",
    "print(\"年齢は\",age, \"です。来年は\",nextage,\"になります。\" )\n",
    "print(\"よろしくお願いします。\" )"
   ]
  }
 ],
 "metadata": {
  "kernelspec": {
   "display_name": ".venv",
   "language": "python",
   "name": "python3"
  },
  "language_info": {
   "codemirror_mode": {
    "name": "ipython",
    "version": 3
   },
   "file_extension": ".py",
   "mimetype": "text/x-python",
   "name": "python",
   "nbconvert_exporter": "python",
   "pygments_lexer": "ipython3",
   "version": "3.12.7"
  }
 },
 "nbformat": 4,
 "nbformat_minor": 5
}
