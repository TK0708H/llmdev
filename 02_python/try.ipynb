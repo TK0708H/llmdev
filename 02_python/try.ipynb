{
 "cells": [
  {
   "cell_type": "code",
   "execution_count": 2,
   "id": "41a30afb",
   "metadata": {},
   "outputs": [
    {
     "name": "stdout",
     "output_type": "stream",
     "text": [
      "100 を 20 で割った結果は 5.0 です\n"
     ]
    }
   ],
   "source": [
    "try:\n",
    "    # 例外が発生するかもしれない処理\n",
    "    num = int(input(\"整数を入力してください: \"))\n",
    "    result = 100 / num\n",
    "    print(f\"100 を {num} で割った結果は {result} です\")\n",
    "except ZeroDivisionError:\n",
    "    # 例外が発生した場合の処理\n",
    "    print(\"エラー: 0 で割ることはできません\")\n",
    "except ValueError:\n",
    "    print(\"エラー: 整数を入力してください\")"
   ]
  },
  {
   "cell_type": "code",
   "execution_count": 3,
   "id": "f8ba7c0c",
   "metadata": {},
   "outputs": [
    {
     "name": "stdout",
     "output_type": "stream",
     "text": [
      "エラー: 整数を入力してください\n"
     ]
    }
   ],
   "source": [
    "try:\n",
    "    num = int(input(\"整数を入力してください: \"))\n",
    "    result = 100 / num\n",
    "    print(f\"100 を {num} で割った結果は {result} です\")\n",
    "except ZeroDivisionError:\n",
    "    print(\"エラー: 0 で割ることはできません\")\n",
    "except ValueError:\n",
    "    print(\"エラー: 整数を入力してください\")\n",
    "except Exception as e:\n",
    "    # 予期しない例外をキャッチ\n",
    "    print(f\"予期しないエラーが発生しました: {e}\")"
   ]
  }
 ],
 "metadata": {
  "kernelspec": {
   "display_name": ".venv",
   "language": "python",
   "name": "python3"
  },
  "language_info": {
   "codemirror_mode": {
    "name": "ipython",
    "version": 3
   },
   "file_extension": ".py",
   "mimetype": "text/x-python",
   "name": "python",
   "nbconvert_exporter": "python",
   "pygments_lexer": "ipython3",
   "version": "3.12.7"
  }
 },
 "nbformat": 4,
 "nbformat_minor": 5
}
