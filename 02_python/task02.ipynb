{
 "cells": [
  {
   "cell_type": "code",
   "execution_count": null,
   "id": "883fd44f",
   "metadata": {},
   "outputs": [
    {
     "name": "stdout",
     "output_type": "stream",
     "text": [
      "送料込み価格:2750.0円\n"
     ]
    }
   ],
   "source": [
    "#税抜き価格を入力する\n",
    "price_input = input(\"税抜価格を入力してください（円）: \")\n",
    "\n",
    "# 入力値を数値（整数）に変換\n",
    "price = int(price_input)\n",
    "\n",
    "#税抜き価格を1.1倍して消費税込みの価格を算出する\n",
    "tax_included = price*1.1\n",
    "\n",
    "#送料を計算する（税込価格が2000円以上の場合は送料無料、2000円未満の場合は350円とします）\n",
    "if tax_included<2000:\n",
    " shipping=350\n",
    "else:\n",
    " shipping=0\n",
    "\n",
    "#消費税込みの価格と送料を合算＝送料込価格\n",
    "total = tax_included + shipping\n",
    "\n",
    "#「送料込価格」を出力する\n",
    "print(f\"送料込価格:{total}円\")"
   ]
  }
 ],
 "metadata": {
  "kernelspec": {
   "display_name": ".venv",
   "language": "python",
   "name": "python3"
  },
  "language_info": {
   "codemirror_mode": {
    "name": "ipython",
    "version": 3
   },
   "file_extension": ".py",
   "mimetype": "text/x-python",
   "name": "python",
   "nbconvert_exporter": "python",
   "pygments_lexer": "ipython3",
   "version": "3.12.7"
  }
 },
 "nbformat": 4,
 "nbformat_minor": 5
}
