{
 "cells": [
  {
   "cell_type": "code",
   "execution_count": 9,
   "id": "0773491c",
   "metadata": {},
   "outputs": [
    {
     "name": "stdout",
     "output_type": "stream",
     "text": [
      "33.333333333333336\n"
     ]
    }
   ],
   "source": [
    "#2つの整数を入力させる\n",
    "try:\n",
    " num1_input = int(input(\"1つ目の数値を入力してください: \"))\n",
    " num2_input = int(input(\"2つ目の数値を入力してください: \"))\n",
    "\n",
    "#割る\n",
    " result= num1_input/num2_input\n",
    " print(result)\n",
    "\n",
    "except ZeroDivisionError:\n",
    "    print(\"エラー: 0 で割ることはできません\")\n",
    "\n",
    "\n",
    "except ValueError:\n",
    "    print(\"エラー: 数値を入力してください\")\n"
   ]
  }
 ],
 "metadata": {
  "kernelspec": {
   "display_name": ".venv",
   "language": "python",
   "name": "python3"
  },
  "language_info": {
   "codemirror_mode": {
    "name": "ipython",
    "version": 3
   },
   "file_extension": ".py",
   "mimetype": "text/x-python",
   "name": "python",
   "nbconvert_exporter": "python",
   "pygments_lexer": "ipython3",
   "version": "3.12.7"
  }
 },
 "nbformat": 4,
 "nbformat_minor": 5
}
