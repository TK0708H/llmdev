{
 "cells": [
  {
   "cell_type": "code",
   "execution_count": 3,
   "id": "4149b641",
   "metadata": {},
   "outputs": [
    {
     "name": "stdout",
     "output_type": "stream",
     "text": [
      "1年後の金額: 10500.00円\n",
      "2年後の金額: 11025.00円\n",
      "3年後の金額: 11576.25円\n",
      "4年後の金額: 12155.06円\n",
      "5年後の金額: 12762.82円\n",
      "6年後の金額: 13400.96円\n",
      "7年後の金額: 14071.00円\n",
      "8年後の金額: 14774.55円\n",
      "9年後の金額: 15513.28円\n",
      "10年後の金額: 16288.95円\n"
     ]
    }
   ],
   "source": [
    "# 元金を入力（文字列として受け取り、floatに変換）\n",
    "principal_input = input(\"元金を入力してください: \")\n",
    "principal = float(principal_input)\n",
    "\n",
    "# 年利を入力（文字列として受け取り、パーセント→小数に変換）\n",
    "rate_input = input(\"年利を入力してください（％）: \")\n",
    "rate = float(rate_input) / 100  # たとえば5%なら0.05に\n",
    "\n",
    "# 繰り返し構文で10年分の複利を計算\n",
    "for year in range(1, 11):\n",
    "    principal *= (1 + rate)\n",
    "    print(f\"{year}年後の金額: {principal:.2f}円\")"
   ]
  }
 ],
 "metadata": {
  "kernelspec": {
   "display_name": ".venv",
   "language": "python",
   "name": "python3"
  },
  "language_info": {
   "codemirror_mode": {
    "name": "ipython",
    "version": 3
   },
   "file_extension": ".py",
   "mimetype": "text/x-python",
   "name": "python",
   "nbconvert_exporter": "python",
   "pygments_lexer": "ipython3",
   "version": "3.12.7"
  }
 },
 "nbformat": 4,
 "nbformat_minor": 5
}
