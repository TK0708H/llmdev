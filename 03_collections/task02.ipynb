{
 "cells": [
  {
   "cell_type": "code",
   "execution_count": null,
   "id": "9a29b131",
   "metadata": {},
   "outputs": [
    {
     "name": "stdout",
     "output_type": "stream",
     "text": [
      "\n",
      "=== 入力された英単語（ABC順） ===\n",
      "english\n",
      "japanese\n",
      "word\n",
      "\n",
      "=== アルファベットごとの出現回数 ===\n",
      "a が 2 個ありました\n",
      "d が 1 個ありました\n",
      "e が 3 個ありました\n",
      "g が 1 個ありました\n",
      "h が 1 個ありました\n",
      "i が 1 個ありました\n",
      "j が 1 個ありました\n",
      "l が 1 個ありました\n",
      "n が 2 個ありました\n",
      "o が 1 個ありました\n",
      "p が 1 個ありました\n",
      "r が 1 個ありました\n",
      "s が 2 個ありました\n",
      "w が 1 個ありました\n"
     ]
    }
   ],
   "source": [
    "# 1. 英単語を格納するための空のリストを作成する\n",
    "word_list = []\n",
    "\n",
    "# 2. アルファベットごとの数を格納する辞書を作成する（キーは小文字、値は0）\n",
    "import string\n",
    "letter_counts = {letter: 0 for letter in string.ascii_lowercase}\n",
    "\n",
    "# 3. 英単語の入力の受付を繰り返す\n",
    "while True:\n",
    "    # a. キーボードから英単語の入力を受け付ける\n",
    "    word = input(\"英単語を入力してください（未入力で終了）: \")\n",
    "\n",
    "    # b. 入力された文字が \"\" なら繰り返しを抜ける\n",
    "    if word == \"\":\n",
    "        break\n",
    "\n",
    "    # c. 英単語をリストに格納する\n",
    "    word_list.append(word)\n",
    "\n",
    "    # d. 英単語を構成する文字を1文字ずつ確認して、アルファベットの数に1を加算する\n",
    "    for char in word.lower():  # 小文字に変換してカウント\n",
    "        if char in letter_counts:\n",
    "            letter_counts[char] += 1\n",
    "\n",
    "# 4. 英単語のリストをABC順に並べ替える\n",
    "word_list.sort()\n",
    "\n",
    "# 5. 英単語のリストを一覧表示する\n",
    "print(\"\\n=== 入力された英単語（ABC順） ===\")\n",
    "for w in word_list:\n",
    "    print(w)\n",
    "\n",
    "# 10. アルファベットごとの数を表示（0より大きいものだけ）\n",
    "print(\"\\n=== アルファベットごとの出現回数 ===\")\n",
    "for letter, count in sorted(letter_counts.items()):\n",
    "    if count > 0:\n",
    "        print(f\"{letter} が {count} 個ありました\")"
   ]
  }
 ],
 "metadata": {
  "kernelspec": {
   "display_name": ".venv",
   "language": "python",
   "name": "python3"
  },
  "language_info": {
   "codemirror_mode": {
    "name": "ipython",
    "version": 3
   },
   "file_extension": ".py",
   "mimetype": "text/x-python",
   "name": "python",
   "nbconvert_exporter": "python",
   "pygments_lexer": "ipython3",
   "version": "3.12.7"
  }
 },
 "nbformat": 4,
 "nbformat_minor": 5
}
