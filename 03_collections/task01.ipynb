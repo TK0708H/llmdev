{
 "cells": [
  {
   "cell_type": "code",
   "execution_count": 3,
   "id": "605191e5",
   "metadata": {},
   "outputs": [
    {
     "name": "stdout",
     "output_type": "stream",
     "text": [
      "平均点: 86.60\n",
      "最高点: 92\n",
      "最低点: 78\n",
      "平均以上の学生数: 3人\n"
     ]
    }
   ],
   "source": [
    "#学生の成績をリストとして定義\n",
    "grades = [85, 90, 78, 92, 88]\n",
    "\n",
    "# 成績の平均点を計算\n",
    "average = sum(grades) / len(grades)\n",
    "\n",
    "# 成績の最高点と最低点を求める\n",
    "highest = max(grades)\n",
    "lowest = min(grades)\n",
    "\n",
    "# 成績が平均以上の学生数をカウント\n",
    "count = 0\n",
    "for grade in grades:\n",
    "    if grade >= average:\n",
    "        count += 1\n",
    "\n",
    "count_above_average = count\n",
    "\n",
    "# 結果を表示\n",
    "print(f\"平均点: {average:.2f}\")\n",
    "print(f\"最高点: {highest}\")\n",
    "print(f\"最低点: {lowest}\")\n",
    "print(f\"平均以上の学生数: {count_above_average}人\")\n"
   ]
  }
 ],
 "metadata": {
  "kernelspec": {
   "display_name": ".venv",
   "language": "python",
   "name": "python3"
  },
  "language_info": {
   "codemirror_mode": {
    "name": "ipython",
    "version": 3
   },
   "file_extension": ".py",
   "mimetype": "text/x-python",
   "name": "python",
   "nbconvert_exporter": "python",
   "pygments_lexer": "ipython3",
   "version": "3.12.7"
  }
 },
 "nbformat": 4,
 "nbformat_minor": 5
}
