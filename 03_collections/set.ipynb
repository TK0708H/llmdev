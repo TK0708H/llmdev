{
 "cells": [
  {
   "cell_type": "code",
   "execution_count": 1,
   "id": "36a76e59",
   "metadata": {},
   "outputs": [
    {
     "name": "stdout",
     "output_type": "stream",
     "text": [
      "{1, 2, 3, 4, 5}\n",
      "{'apple', 42, (1, 2, 3)}\n",
      "set()\n"
     ]
    }
   ],
   "source": [
    "# 数値を格納したセット\n",
    "numbers = {1, 2, 3, 4, 5}\n",
    "print(numbers)  # {1, 2, 3, 4, 5}\n",
    "\n",
    "# 異なるデータ型の値を格納したセット\n",
    "mixed_set = {\"apple\", 42, (1, 2, 3)}\n",
    "print(mixed_set)  # {'apple', 42, (1, 2, 3)}\n",
    "\n",
    "# 空のセット（空の辞書と区別するために set() を使用）\n",
    "empty_set = set()\n",
    "print(empty_set)  # set()"
   ]
  }
 ],
 "metadata": {
  "kernelspec": {
   "display_name": ".venv",
   "language": "python",
   "name": "python3"
  },
  "language_info": {
   "codemirror_mode": {
    "name": "ipython",
    "version": 3
   },
   "file_extension": ".py",
   "mimetype": "text/x-python",
   "name": "python",
   "nbconvert_exporter": "python",
   "pygments_lexer": "ipython3",
   "version": "3.12.7"
  }
 },
 "nbformat": 4,
 "nbformat_minor": 5
}
