{
 "cells": [
  {
   "cell_type": "code",
   "execution_count": 1,
   "id": "a68faf04",
   "metadata": {},
   "outputs": [
    {
     "name": "stdout",
     "output_type": "stream",
     "text": [
      "(1, 2, 3, 4, 5)\n",
      "('apple', 'banana', 'cherry')\n",
      "(1, 'apple', 3.14, True)\n",
      "()\n",
      "(1,)\n"
     ]
    }
   ],
   "source": [
    "# 数値を格納したタプル\n",
    "numbers = (1, 2, 3, 4, 5)\n",
    "print(numbers)  # (1, 2, 3, 4, 5)\n",
    "\n",
    "# 文字列を格納したタプル\n",
    "fruits = (\"apple\", \"banana\", \"cherry\")\n",
    "print(fruits)  # ('apple', 'banana', 'cherry')\n",
    "\n",
    "# 異なるデータ型を混在させたタプル\n",
    "mixed = (1, \"apple\", 3.14, True)\n",
    "print(mixed)  # (1, 'apple', 3.14, True)\n",
    "\n",
    "# 空のタプル\n",
    "empty_tuple = ()\n",
    "print(empty_tuple)  # ()\n",
    "\n",
    "# 要素が1つだけのタプル\n",
    "one_element_tuple = (1,)\n",
    "print(one_element_tuple)  # ()"
   ]
  }
 ],
 "metadata": {
  "kernelspec": {
   "display_name": ".venv",
   "language": "python",
   "name": "python3"
  },
  "language_info": {
   "codemirror_mode": {
    "name": "ipython",
    "version": 3
   },
   "file_extension": ".py",
   "mimetype": "text/x-python",
   "name": "python",
   "nbconvert_exporter": "python",
   "pygments_lexer": "ipython3",
   "version": "3.12.7"
  }
 },
 "nbformat": 4,
 "nbformat_minor": 5
}
