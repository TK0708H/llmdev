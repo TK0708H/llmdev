{
 "cells": [
  {
   "cell_type": "code",
   "execution_count": 1,
   "id": "7aa9ece1",
   "metadata": {},
   "outputs": [
    {
     "name": "stdout",
     "output_type": "stream",
     "text": [
      "[1, 2, 3, 4, 5]\n",
      "['apple', 'banana', 'cherry']\n",
      "[1, 'apple', 3.14, True]\n",
      "[]\n"
     ]
    }
   ],
   "source": [
    "# 数値を格納したリスト\n",
    "numbers = [1, 2, 3, 4, 5]\n",
    "print(numbers) # [1, 2, 3, 4, 5]\n",
    "\n",
    "# 文字列を格納したリスト\n",
    "fruits = [\"apple\", \"banana\", \"cherry\"]\n",
    "print(fruits) # ['apple', 'banana', 'cherry']\n",
    "\n",
    "# 異なるデータ型を混在させたリスト\n",
    "mixed = [1, \"apple\", 3.14, True]\n",
    "print(mixed) # [1, 'apple', 3.14, True]\n",
    "\n",
    "# 空のリスト\n",
    "empty_list = []\n",
    "print(empty_list) # []"
   ]
  },
  {
   "cell_type": "code",
   "execution_count": 2,
   "id": "f04dc0d3",
   "metadata": {},
   "outputs": [
    {
     "name": "stdout",
     "output_type": "stream",
     "text": [
      "['h', 'e', 'l', 'l', 'o']\n",
      "[1, 2, 3]\n",
      "[0, 1, 2, 3, 4]\n",
      "[]\n"
     ]
    }
   ],
   "source": [
    "# 文字列をリストに変換\n",
    "string_to_list = list(\"hello\")\n",
    "print(string_to_list)  # [\"h\", \"e\", \"l\", \"l\", \"o\"]\n",
    "\n",
    "# タプルをリストに変換\n",
    "tuple_to_list = list((1, 2, 3))\n",
    "print(tuple_to_list)  # [1, 2, 3]\n",
    "\n",
    "# range()関数で生成された範囲をリストに変換\n",
    "range_to_list = list(range(5))\n",
    "print(range_to_list)  # [0, 1, 2, 3, 4]\n",
    "\n",
    "# list()関数を使った空のリスト\n",
    "empty_list = list()\n",
    "print(empty_list)  # []"
   ]
  },
  {
   "cell_type": "code",
   "execution_count": 3,
   "id": "6d248191",
   "metadata": {},
   "outputs": [
    {
     "name": "stdout",
     "output_type": "stream",
     "text": [
      "apple\n",
      "cherry\n",
      "['apple', 'orange', 'cherry']\n"
     ]
    }
   ],
   "source": [
    "fruits = [\"apple\", \"banana\", \"cherry\"]\n",
    "\n",
    "# インデックス0（最初の要素）にアクセス\n",
    "print(fruits[0])  # apple\n",
    "\n",
    "# インデックス-1（最後の要素）にアクセス\n",
    "print(fruits[-1])  # cherry\n",
    "\n",
    "# インデックス1の要素を \"orange\" に変更\n",
    "fruits[1] = \"orange\"\n",
    "print(fruits)  # [\"apple\", \"orange\", \"cherry\"]"
   ]
  },
  {
   "cell_type": "code",
   "execution_count": 4,
   "id": "9d84b692",
   "metadata": {},
   "outputs": [
    {
     "name": "stdout",
     "output_type": "stream",
     "text": [
      "['apple', 'banana', 'cherry']\n",
      "['apple', 'orange', 'banana', 'cherry']\n",
      "['apple', 'orange', 'banana', 'cherry', 'mango', 'grape']\n"
     ]
    }
   ],
   "source": [
    "fruits = [\"apple\", \"banana\"]\n",
    "\n",
    "# 末尾に \"cherry\" を追加\n",
    "fruits.append(\"cherry\")\n",
    "print(fruits)  # [\"apple\", \"banana\", \"cherry\"]\n",
    "\n",
    "# インデックス1の位置に \"orange\" を挿入\n",
    "fruits.insert(1, \"orange\")\n",
    "print(fruits)  # [\"apple\", \"orange\", \"banana\", \"cherry\"]\n",
    "\n",
    "# リストに別のリストを結合\n",
    "fruits.extend([\"mango\", \"grape\"])\n",
    "print(fruits)  # [\"apple\", \"orange\", \"banana\", \"cherry\", \"mango\", \"grape\"]"
   ]
  },
  {
   "cell_type": "code",
   "execution_count": 5,
   "id": "6f97f843",
   "metadata": {},
   "outputs": [
    {
     "name": "stdout",
     "output_type": "stream",
     "text": [
      "[1, 2, 3, 4, 5]\n"
     ]
    }
   ],
   "source": [
    "# forループで作成する方法\n",
    "numbers = []\n",
    "for i in range(1, 6):\n",
    "    numbers.append(i)\n",
    "print(numbers)  # 出力: [1, 2, 3, 4, 5]"
   ]
  }
 ],
 "metadata": {
  "kernelspec": {
   "display_name": ".venv",
   "language": "python",
   "name": "python3"
  },
  "language_info": {
   "codemirror_mode": {
    "name": "ipython",
    "version": 3
   },
   "file_extension": ".py",
   "mimetype": "text/x-python",
   "name": "python",
   "nbconvert_exporter": "python",
   "pygments_lexer": "ipython3",
   "version": "3.12.7"
  }
 },
 "nbformat": 4,
 "nbformat_minor": 5
}
