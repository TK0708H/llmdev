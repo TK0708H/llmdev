{
 "cells": [
  {
   "cell_type": "code",
   "execution_count": 1,
   "id": "d85098c9",
   "metadata": {},
   "outputs": [
    {
     "name": "stdout",
     "output_type": "stream",
     "text": [
      "{'one': 1, 'two': 2, 'three': 3}\n",
      "{'name': 'Alice', 'age': 25, 'is_student': False}\n",
      "{}\n"
     ]
    }
   ],
   "source": [
    "# 数値を格納した辞書\n",
    "numbers = {\"one\": 1, \"two\": 2, \"three\": 3}\n",
    "print(numbers)  # {'one': 1, 'two': 2, 'three': 3}\n",
    "\n",
    "# 異なるデータ型の値を格納した辞書\n",
    "person = {\"name\": \"Alice\", \"age\": 25, \"is_student\": False}\n",
    "print(person)  # {'name': 'Alice', 'age': 25, 'is_student': False}\n",
    "\n",
    "# 空の辞書\n",
    "empty_dict = {}\n",
    "print(empty_dict)  # {}"
   ]
  },
  {
   "cell_type": "code",
   "execution_count": 2,
   "id": "c002a099",
   "metadata": {},
   "outputs": [
    {
     "name": "stdout",
     "output_type": "stream",
     "text": [
      "100\n",
      "{'apple': 100, 'banana': 250, 'cherry': 300}\n"
     ]
    }
   ],
   "source": [
    "fruit_prices = {\"apple\": 100, \"banana\": 200, \"cherry\": 300}\n",
    "\n",
    "# キー \"apple\" の値にアクセス\n",
    "print(fruit_prices[\"apple\"])  # 100\n",
    "\n",
    "# キー \"banana\" の値を 250 に変更\n",
    "fruit_prices[\"banana\"] = 250\n",
    "print(fruit_prices)  # {'apple': 100, 'banana': 250, 'cherry': 300}"
   ]
  }
 ],
 "metadata": {
  "kernelspec": {
   "display_name": ".venv",
   "language": "python",
   "name": "python3"
  },
  "language_info": {
   "codemirror_mode": {
    "name": "ipython",
    "version": 3
   },
   "file_extension": ".py",
   "mimetype": "text/x-python",
   "name": "python",
   "nbconvert_exporter": "python",
   "pygments_lexer": "ipython3",
   "version": "3.12.7"
  }
 },
 "nbformat": 4,
 "nbformat_minor": 5
}
