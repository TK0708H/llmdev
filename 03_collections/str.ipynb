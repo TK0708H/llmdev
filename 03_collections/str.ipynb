{
 "cells": [
  {
   "cell_type": "code",
   "execution_count": 1,
   "id": "5205a848",
   "metadata": {},
   "outputs": [
    {
     "name": "stdout",
     "output_type": "stream",
     "text": [
      "a\n",
      "b\n",
      "z\n",
      "z\n",
      "x\n",
      "a\n"
     ]
    }
   ],
   "source": [
    "s = \"abcdefghijklmnopqrstuvwxyz\"\n",
    "\n",
    "# 前から\n",
    "print(s[0]) # a\n",
    "print(s[1]) # b\n",
    "print(s[25]) # z\n",
    "\n",
    "# 後から\n",
    "print(s[-1]) # z\n",
    "print(s[-3]) # x\n",
    "print(s[-26]) # a"
   ]
  },
  {
   "cell_type": "code",
   "execution_count": null,
   "id": "b75b5429",
   "metadata": {},
   "outputs": [],
   "source": [
    "s = \"abcdefghijklmnopqrstuvwxyz\"\n",
    "\n",
    "# 前から\n",
    "print(s[0:7])\n",
    "print(s[21:26])\n",
    "\n",
    "# 後から\n",
    "print(s[-5:-1])"
   ]
  }
 ],
 "metadata": {
  "kernelspec": {
   "display_name": ".venv",
   "language": "python",
   "name": "python3"
  },
  "language_info": {
   "codemirror_mode": {
    "name": "ipython",
    "version": 3
   },
   "file_extension": ".py",
   "mimetype": "text/x-python",
   "name": "python",
   "nbconvert_exporter": "python",
   "pygments_lexer": "ipython3",
   "version": "3.12.7"
  }
 },
 "nbformat": 4,
 "nbformat_minor": 5
}
